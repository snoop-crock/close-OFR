{
 "cells": [
  {
   "cell_type": "code",
   "execution_count": null,
   "metadata": {},
   "outputs": [],
   "source": [
    "global_features = ['Scr', 'Temp']  # глобальные признаки, которые влияют на все участки\n",
    "local_features = ['kh_eff', 'h_all', 'ntg', 'hgvk', 'minLgwc',\n",
    "                  'Vdren', 'Sdren', 'minL2', 'minL3', 'kHmin1', 'kHmin2', 'kHmin3'] # локальные признаки, которые влияют только на свой участок\n"
   ]
  },
  {
   "cell_type": "code",
   "execution_count": null,
   "metadata": {},
   "outputs": [],
   "source": [
    "def normalize_by_group(df, group_col, columns_to_norm):\n",
    "    df_norm = df.copy()\n",
    "    for col in columns_to_norm:\n",
    "        df_norm[col] = df.groupby(group_col)[col].transform(\n",
    "            lambda x: (x - x.mean()) / x.std(ddof=0)\n",
    "        )\n",
    "    return df_norm\n"
   ]
  },
  {
   "cell_type": "code",
   "execution_count": null,
   "metadata": {},
   "outputs": [],
   "source": [
    "X_full = df[global_features + local_features].copy()\n",
    "\n",
    "# Нормализуем локальные признаки\n",
    "X_local_norm = normalize_by_group(df, group_col='Temp', columns_to_norm=local_features)\n",
    "\n",
    "# Объединяем нормализованные локальные + глобальные\n",
    "X_final = pd.concat([X_local_norm[local_features], df[global_features]], axis=1)\n"
   ]
  },
  {
   "cell_type": "code",
   "execution_count": null,
   "metadata": {},
   "outputs": [],
   "source": [
    "y = df['q_i']\n",
    "y = df['OFR']\n"
   ]
  },
  {
   "cell_type": "code",
   "execution_count": null,
   "metadata": {},
   "outputs": [],
   "source": [
    "from sklearn.ensemble import RandomForestRegressor\n",
    "from sklearn.model_selection import train_test_split\n",
    "from sklearn.metrics import mean_squared_error, r2_score, mean_absolute_error\n",
    "\n",
    "X_train, X_test, y_train, y_test = train_test_split(X_final, y, test_size=0.2, random_state=42)\n",
    "\n",
    "model = RandomForestRegressor(n_estimators=300, max_depth=10, random_state=42)\n",
    "model.fit(X_train, y_train)\n",
    "\n",
    "y_pred = model.predict(X_test)\n"
   ]
  },
  {
   "cell_type": "code",
   "execution_count": null,
   "metadata": {},
   "outputs": [],
   "source": [
    "print(\"R2:\", r2_score(y_test, y_pred))\n",
    "print(\"RMSE:\", mean_squared_error(y_test, y_pred, squared=False))\n",
    "print(\"MAE:\", mean_absolute_error(y_test, y_pred))\n",
    "from scipy.stats import spearmanr\n",
    "print(\"Spearman:\", spearmanr(y_test, y_pred).correlation)\n"
   ]
  }
 ],
 "metadata": {
  "language_info": {
   "name": "python"
  }
 },
 "nbformat": 4,
 "nbformat_minor": 2
}
